{
 "metadata": {
  "language_info": {
   "codemirror_mode": {
    "name": "ipython",
    "version": 3
   },
   "file_extension": ".py",
   "mimetype": "text/x-python",
   "name": "python",
   "nbconvert_exporter": "python",
   "pygments_lexer": "ipython3",
   "version": 3
  },
  "orig_nbformat": 2
 },
 "nbformat": 4,
 "nbformat_minor": 2,
 "cells": [
  {
   "cell_type": "code",
   "execution_count": null,
   "metadata": {},
   "outputs": [
    {
     "output_type": "error",
     "ename": "Error",
     "evalue": "Jupyter cannot be started. Error attempting to locate jupyter: Data Science libraries jupyter and notebook are not installed in interpreter Python 3.9.0 64-bit.",
     "traceback": [
      "Error: Jupyter cannot be started. Error attempting to locate jupyter: Data Science libraries jupyter and notebook are not installed in interpreter Python 3.9.0 64-bit.",
      "at b.startServer (c:\\Users\\Raphael.maria\\.vscode\\extensions\\ms-python.python-2020.9.114305\\out\\client\\extension.js:56:315285)",
      "at processTicksAndRejections (internal/process/task_queues.js:94:5)",
      "at async b.createServer (c:\\Users\\Raphael.maria\\.vscode\\extensions\\ms-python.python-2020.9.114305\\out\\client\\extension.js:56:314727)",
      "at async connect (c:\\Users\\Raphael.maria\\.vscode\\extensions\\ms-python.python-2020.9.114305\\out\\client\\extension.js:56:442892)",
      "at async f.ensureConnectionAndNotebookImpl (c:\\Users\\Raphael.maria\\.vscode\\extensions\\ms-python.python-2020.9.114305\\out\\client\\extension.js:32:92535)",
      "at async f.ensureConnectionAndNotebook (c:\\Users\\Raphael.maria\\.vscode\\extensions\\ms-python.python-2020.9.114305\\out\\client\\extension.js:32:90897)",
      "at async f.clearResult (c:\\Users\\Raphael.maria\\.vscode\\extensions\\ms-python.python-2020.9.114305\\out\\client\\extension.js:32:86569)",
      "at async f.reexecuteCell (c:\\Users\\Raphael.maria\\.vscode\\extensions\\ms-python.python-2020.9.114305\\out\\client\\extension.js:9:134551)",
      "at async f.reexecuteCells (c:\\Users\\Raphael.maria\\.vscode\\extensions\\ms-python.python-2020.9.114305\\out\\client\\extension.js:9:130897)"
     ]
    }
   ],
   "source": [
    "1+1"
   ]
  }
 ]
}